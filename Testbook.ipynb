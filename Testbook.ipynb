{
    "cells": [
        {
            "cell_type": "code",
            "execution_count": 1,
            "metadata": {},
            "outputs": [
                {
                    "data": {
                        "text/html": "<div>\n<style scoped>\n    .dataframe tbody tr th:only-of-type {\n        vertical-align: middle;\n    }\n\n    .dataframe tbody tr th {\n        vertical-align: top;\n    }\n\n    .dataframe thead th {\n        text-align: right;\n    }\n</style>\n<table border=\"1\" class=\"dataframe\">\n  <thead>\n    <tr style=\"text-align: right;\">\n      <th></th>\n      <th>date</th>\n      <th>period</th>\n      <th>exchus</th>\n      <th>ovx</th>\n      <th>usinterest</th>\n      <th>usinflation</th>\n      <th>usunemp</th>\n      <th>ussp500</th>\n      <th>oilprice</th>\n    </tr>\n  </thead>\n  <tbody>\n    <tr>\n      <th>0</th>\n      <td>2016-05-01</td>\n      <td>22</td>\n      <td>6.5259</td>\n      <td>38.08</td>\n      <td>0.644772</td>\n      <td>1.594286</td>\n      <td>4.8</td>\n      <td>2096.96</td>\n      <td>49.10</td>\n    </tr>\n    <tr>\n      <th>1</th>\n      <td>2016-06-01</td>\n      <td>23</td>\n      <td>6.5892</td>\n      <td>38.09</td>\n      <td>0.651620</td>\n      <td>1.470000</td>\n      <td>4.9</td>\n      <td>2098.86</td>\n      <td>48.33</td>\n    </tr>\n    <tr>\n      <th>2</th>\n      <td>2016-07-01</td>\n      <td>24</td>\n      <td>6.6771</td>\n      <td>41.08</td>\n      <td>0.696310</td>\n      <td>1.465500</td>\n      <td>4.8</td>\n      <td>2173.60</td>\n      <td>41.60</td>\n    </tr>\n    <tr>\n      <th>3</th>\n      <td>2016-08-01</td>\n      <td>25</td>\n      <td>6.6466</td>\n      <td>39.50</td>\n      <td>0.810223</td>\n      <td>1.468261</td>\n      <td>4.9</td>\n      <td>2170.95</td>\n      <td>44.70</td>\n    </tr>\n    <tr>\n      <th>4</th>\n      <td>2016-09-01</td>\n      <td>26</td>\n      <td>6.6702</td>\n      <td>39.31</td>\n      <td>0.849680</td>\n      <td>1.514762</td>\n      <td>5.0</td>\n      <td>2168.27</td>\n      <td>48.24</td>\n    </tr>\n  </tbody>\n</table>\n</div>",
                        "text/plain": "        date  period  exchus    ovx  usinterest  usinflation  usunemp  \\\n0 2016-05-01      22  6.5259  38.08    0.644772     1.594286      4.8   \n1 2016-06-01      23  6.5892  38.09    0.651620     1.470000      4.9   \n2 2016-07-01      24  6.6771  41.08    0.696310     1.465500      4.8   \n3 2016-08-01      25  6.6466  39.50    0.810223     1.468261      4.9   \n4 2016-09-01      26  6.6702  39.31    0.849680     1.514762      5.0   \n\n   ussp500  oilprice  \n0  2096.96     49.10  \n1  2098.86     48.33  \n2  2173.60     41.60  \n3  2170.95     44.70  \n4  2168.27     48.24  "
                    },
                    "execution_count": 1,
                    "metadata": {},
                    "output_type": "execute_result"
                }
            ],
            "source": "# The code was removed by Watson Studio for sharing."
        },
        {
            "cell_type": "code",
            "execution_count": null,
            "metadata": {},
            "outputs": [],
            "source": ""
        }
    ],
    "metadata": {
        "kernelspec": {
            "display_name": "Python 3.6",
            "language": "python",
            "name": "python3"
        },
        "language_info": {
            "codemirror_mode": {
                "name": "ipython",
                "version": 3
            },
            "file_extension": ".py",
            "mimetype": "text/x-python",
            "name": "python",
            "nbconvert_exporter": "python",
            "pygments_lexer": "ipython3",
            "version": "3.6.9"
        }
    },
    "nbformat": 4,
    "nbformat_minor": 1
}